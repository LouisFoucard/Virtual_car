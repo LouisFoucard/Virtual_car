{
 "cells": [
  {
   "cell_type": "code",
   "execution_count": 107,
   "metadata": {
    "collapsed": false,
    "scrolled": false
   },
   "outputs": [
    {
     "name": "stdout",
     "output_type": "stream",
     "text": [
      "(1562, 36, 120, 1)\n",
      "(1563, 36, 120, 1)\n",
      "(1564, 36, 120, 1)\n",
      "(1565, 36, 120, 1)\n",
      "(1566, 36, 120, 1)\n",
      "(1567, 36, 120, 1)\n",
      "(1568, 36, 120, 1)\n",
      "(1569, 36, 120, 1)\n",
      "(1570, 36, 120, 1)\n"
     ]
    },
    {
     "ename": "KeyboardInterrupt",
     "evalue": "",
     "output_type": "error",
     "traceback": [
      "\u001b[0;31m---------------------------------------------------------------------------\u001b[0m",
      "\u001b[0;31mKeyboardInterrupt\u001b[0m                         Traceback (most recent call last)",
      "\u001b[0;32m<ipython-input-107-a68f123ae63f>\u001b[0m in \u001b[0;36m<module>\u001b[0;34m()\u001b[0m\n\u001b[1;32m     37\u001b[0m     \u001b[0msock\u001b[0m\u001b[0;34m.\u001b[0m\u001b[0msendto\u001b[0m\u001b[0;34m(\u001b[0m\u001b[0mdata\u001b[0m\u001b[0;34m,\u001b[0m \u001b[0;34m(\u001b[0m\u001b[0mHOST\u001b[0m\u001b[0;34m,\u001b[0m \u001b[0mPORT_SND\u001b[0m\u001b[0;34m)\u001b[0m\u001b[0;34m)\u001b[0m\u001b[0;34m\u001b[0m\u001b[0m\n\u001b[1;32m     38\u001b[0m \u001b[0;34m\u001b[0m\u001b[0m\n\u001b[0;32m---> 39\u001b[0;31m     \u001b[0mKeyInput\u001b[0m \u001b[0;34m=\u001b[0m \u001b[0msock\u001b[0m\u001b[0;34m.\u001b[0m\u001b[0mrecvfrom\u001b[0m\u001b[0;34m(\u001b[0m\u001b[0;36m1024\u001b[0m\u001b[0;34m)\u001b[0m\u001b[0;34m\u001b[0m\u001b[0m\n\u001b[0m\u001b[1;32m     40\u001b[0m     \u001b[0mKeyInput2\u001b[0m \u001b[0;34m=\u001b[0m \u001b[0mpickle\u001b[0m\u001b[0;34m.\u001b[0m\u001b[0mloads\u001b[0m\u001b[0;34m(\u001b[0m\u001b[0mKeyInput\u001b[0m\u001b[0;34m[\u001b[0m\u001b[0;36m0\u001b[0m\u001b[0;34m]\u001b[0m\u001b[0;34m)\u001b[0m\u001b[0;34m\u001b[0m\u001b[0m\n\u001b[1;32m     41\u001b[0m     \u001b[0mKeyInput2\u001b[0m \u001b[0;34m=\u001b[0m \u001b[0mnp\u001b[0m\u001b[0;34m.\u001b[0m\u001b[0marray\u001b[0m\u001b[0;34m(\u001b[0m\u001b[0mKeyInput2\u001b[0m\u001b[0;34m)\u001b[0m\u001b[0;34m\u001b[0m\u001b[0m\n",
      "\u001b[0;31mKeyboardInterrupt\u001b[0m: "
     ]
    }
   ],
   "source": [
    "import socket\n",
    "import struct\n",
    "import math \n",
    "import sys, time\n",
    "import pickle\n",
    "import numpy as np\n",
    "from IPython.display import Image as IPImage\n",
    "import PIL\n",
    "from PIL import Image\n",
    "import matplotlib.pyplot as plt\n",
    "from IPython import display\n",
    "from IPython.display import clear_output\n",
    "%matplotlib inline\n",
    "\n",
    "# replace localhost with network name of game machine defined in game blend\n",
    "HOST, PORT_SND, PORT_RCV = \"localhost\", 9999, 10000\n",
    "\n",
    "# SOCK_DGRAM is the socket type to use for UDP sockets\n",
    "sock = socket.socket(socket.AF_INET, socket.SOCK_DGRAM)\n",
    "sock.bind((HOST, PORT_RCV))  \n",
    "inputs = np.array([[0,0,0,0]])\n",
    "ch = 1\n",
    "nf = 0\n",
    "X = Image.open('/Users/louis/Documents/Virtual_car/frame.jpg').convert(\"L\")\n",
    "basewidth = 120\n",
    "wpercent = (basewidth / float(X.size[0]))\n",
    "hsize = int((float(X.size[1]) * float(wpercent)))\n",
    "X = X.resize((basewidth, hsize), PIL.Image.ANTIALIAS)\n",
    "X = np.asarray(X.getdata())\n",
    "X = X.reshape(-1,hsize,basewidth,ch)\n",
    "KeyInput2 = [0,0,0,0]\n",
    "while KeyInput2[1]==0:\n",
    "\n",
    "    #data=struct.pack('<ff',theta,y)\n",
    "    data = pickle.dumps((0.0,0.0))\n",
    "    #data=struct.pack(\"f\",theta)\n",
    "    sock.sendto(data, (HOST, PORT_SND))\n",
    "    \n",
    "    KeyInput = sock.recvfrom(1024)\n",
    "    KeyInput2 = pickle.loads(KeyInput[0])\n",
    "    KeyInput2 = np.array(KeyInput2)\n",
    "    \n",
    "    if sum(KeyInput2)>0:\n",
    "        nf += 1\n",
    "        Xim = Image.open('/Users/louis/Documents/Virtual_car/frame.jpg').convert(\"L\")\n",
    "        wpercent = (basewidth / float(Xim.size[0]))\n",
    "        hsize = int((float(Xim.size[1]) * float(wpercent)))\n",
    "        Xim = Xim.resize((basewidth, hsize), PIL.Image.ANTIALIAS)\n",
    "        Xim = np.asarray(Xim.getdata())\n",
    "        Xim = Xim.reshape(-1,hsize,basewidth,ch)\n",
    "        \n",
    "        X = np.concatenate((X, Xim), axis=0)\n",
    "        inputs = np.append(inputs,[KeyInput2],axis=0)\n",
    "        #plt.imshow(Xim[0])\n",
    "        #plt.show()\n",
    "        print X.shape\n",
    "        if nf ==10:\n",
    "            clear_output()\n",
    "            nf = 0\n",
    "        time.sleep(0.005)              # try for 30fps motion updates\n",
    "\n",
    "fIm = open('/Users/louis/Documents/Virtual_car_data/images5.p', 'w')\n",
    "pickle.dump(X,fIm)\n",
    "fIm.close() \n",
    "\n",
    "fIn = open('/Users/louis/Documents/Virtual_car_data/inputs5.p', 'w')\n",
    "pickle.dump(inputs,fIn)\n",
    "fIn.close() \n",
    "\n",
    "data = pickle.dumps((0,0))\n",
    "\n",
    "sock.sendto(data, (HOST, PORT_SND))\n",
    "\n",
    "sock.close()"
   ]
  },
  {
   "cell_type": "code",
   "execution_count": 104,
   "metadata": {
    "collapsed": false
   },
   "outputs": [
    {
     "data": {
      "text/plain": [
       "array([0, 1, 0, 0])"
      ]
     },
     "execution_count": 104,
     "metadata": {},
     "output_type": "execute_result"
    }
   ],
   "source": [
    "KeyInput2"
   ]
  },
  {
   "cell_type": "code",
   "execution_count": null,
   "metadata": {
    "collapsed": false,
    "scrolled": false
   },
   "outputs": [],
   "source": []
  },
  {
   "cell_type": "code",
   "execution_count": null,
   "metadata": {
    "collapsed": false,
    "scrolled": false
   },
   "outputs": [],
   "source": []
  },
  {
   "cell_type": "code",
   "execution_count": null,
   "metadata": {
    "collapsed": false,
    "scrolled": false
   },
   "outputs": [],
   "source": []
  },
  {
   "cell_type": "code",
   "execution_count": null,
   "metadata": {
    "collapsed": true
   },
   "outputs": [],
   "source": []
  }
 ],
 "metadata": {
  "kernelspec": {
   "display_name": "Python 2",
   "language": "python",
   "name": "python2"
  },
  "language_info": {
   "codemirror_mode": {
    "name": "ipython",
    "version": 2
   },
   "file_extension": ".py",
   "mimetype": "text/x-python",
   "name": "python",
   "nbconvert_exporter": "python",
   "pygments_lexer": "ipython2",
   "version": "2.7.10"
  }
 },
 "nbformat": 4,
 "nbformat_minor": 0
}
