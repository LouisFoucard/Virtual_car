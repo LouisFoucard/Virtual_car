{
 "cells": [
  {
   "cell_type": "code",
   "execution_count": 7,
   "metadata": {
    "collapsed": true,
    "scrolled": true
   },
   "outputs": [],
   "source": [
    "import matplotlib\n",
    "import matplotlib.pyplot as plt\n",
    "import matplotlib.cm as cm\n",
    "from PIL import Image\n",
    "from urllib import urlretrieve\n",
    "import cPickle as pickle\n",
    "import os\n",
    "import gzip\n",
    "import numpy as np\n",
    "import theano\n",
    "import lasagne\n",
    "from lasagne import layers\n",
    "from lasagne.updates import nesterov_momentum\n",
    "from nolearn.lasagne import NeuralNet\n",
    "from nolearn.lasagne import visualize\n",
    "from sklearn.metrics import classification_report\n",
    "from sklearn.metrics import confusion_matrix\n",
    "\n",
    "import socket\n",
    "import struct\n",
    "import math \n",
    "import sys, time\n",
    "import pickle\n",
    "import numpy as np\n",
    "from IPython.display import Image as IPImage\n",
    "import PIL\n",
    "from PIL import Image\n",
    "import matplotlib.pyplot as plt\n",
    "from IPython import display\n",
    "from IPython.display import clear_output\n",
    "%matplotlib inline"
   ]
  },
  {
   "cell_type": "code",
   "execution_count": 17,
   "metadata": {
    "collapsed": true,
    "scrolled": true
   },
   "outputs": [],
   "source": [
    "def load_dataset():\n",
    "    \n",
    "        \n",
    "    fIm = open('/Users/louis/Documents/Virtual_car_data/images2.p', 'r')\n",
    "    fIn = open('/Users/louis/Documents/Virtual_car_data/inputs2.p', 'r')\n",
    "    X_train = pickle.load(fIm)/255.\n",
    "    y_train = pickle.load(fIn)\n",
    "    \n",
    "    H = X_train.shape[1]\n",
    "    W = X_train.shape[2]\n",
    "    ch = X_train.shape[3]\n",
    "    \n",
    "    X_train = X_train.reshape(-1,ch,H,W)\n",
    "    X_train = X_train.astype(np.float32)\n",
    "    y_train = y_train.astype(np.uint8)\n",
    "    \n",
    "    return X_train, y_train, H, W, ch\n",
    "\n",
    "def deprocess(x):\n",
    "    \n",
    "    x = x.reshape(H,W,ch)\n",
    "    x = x*255\n",
    "    x = np.clip(x, 0, 255).astype('uint8')\n",
    "    return x\n",
    "\n",
    "X_train, y_train, H, W, ch = load_dataset()"
   ]
  },
  {
   "cell_type": "code",
   "execution_count": 32,
   "metadata": {
    "collapsed": false,
    "scrolled": false
   },
   "outputs": [
    {
     "name": "stdout",
     "output_type": "stream",
     "text": [
      "22 75\n"
     ]
    }
   ],
   "source": [
    "#Xim = plt.imread('/Users/louis/Documents/Virtual_car/frame.jpg')\n",
    "#H = Xim.shape[0] \n",
    "#W = Xim.shape[1] \n",
    "#ch = Xim.shape[2] \n",
    "#Xim = Xim.reshape(-1,ch,Xim.shape[0],Xim.shape[1])\n",
    "ch =3\n",
    "basewidth = 75\n",
    "Xim = Image.open('/Users/louis/Documents/Virtual_car/frame.jpg')\n",
    "wpercent = (basewidth / float(Xim.size[0]))\n",
    "hsize = int((float(Xim.size[1]) * float(wpercent)))\n",
    "hsize = 22\n",
    "Xim = Xim.resize((basewidth, hsize), PIL.Image.ANTIALIAS)\n",
    "Xim = np.asarray(Xim.getdata())\n",
    "Xim = Xim.reshape(-1,hsize,basewidth,ch)\n",
    "\n",
    "H = Xim.shape[1]\n",
    "W = Xim.shape[2]\n",
    "\n",
    "print H, W\n",
    "\n",
    "net1 = NeuralNet(\n",
    "    layers=[('input', layers.InputLayer),\n",
    "            ('conv2d1', layers.Conv2DLayer),\n",
    "            ('maxpool1', layers.MaxPool2DLayer),\n",
    "            ('conv2d2', layers.Conv2DLayer),\n",
    "            ('maxpool2', layers.MaxPool2DLayer),\n",
    "            ('dropout1', layers.DropoutLayer),\n",
    "            ('dense', layers.DenseLayer),\n",
    "            ('dropout2', layers.DropoutLayer),\n",
    "            ('output', layers.DenseLayer),\n",
    "            ],\n",
    "    # input layer\n",
    "    input_shape=(None, ch, H, W),\n",
    "    # layer conv2d1\n",
    "    conv2d1_num_filters=32,\n",
    "    conv2d1_filter_size=(5, 5),\n",
    "    conv2d1_nonlinearity=lasagne.nonlinearities.rectify,\n",
    "    conv2d1_W=lasagne.init.GlorotUniform(),  \n",
    "    # layer maxpool1\n",
    "    maxpool1_pool_size=(2, 2),    \n",
    "    # layer conv2d2\n",
    "    conv2d2_num_filters=32,\n",
    "    conv2d2_filter_size=(5, 5),\n",
    "    conv2d2_nonlinearity=lasagne.nonlinearities.rectify,\n",
    "    # layer maxpool2\n",
    "    maxpool2_pool_size=(2, 2),\n",
    "    # dropout1\n",
    "    dropout1_p=0.5,    \n",
    "    # dense\n",
    "    dense_num_units=32,\n",
    "    dense_nonlinearity=lasagne.nonlinearities.rectify,    \n",
    "    # dropout2\n",
    "    dropout2_p=0.5,    \n",
    "    # output\n",
    "    output_nonlinearity=lasagne.nonlinearities.softmax,\n",
    "    output_num_units=3,\n",
    "    # optimization method params\n",
    "    update=nesterov_momentum,\n",
    "    update_learning_rate=0.01,\n",
    "    update_momentum=0.9,\n",
    "    max_epochs=25,\n",
    "    verbose=1,\n",
    "    )"
   ]
  },
  {
   "cell_type": "code",
   "execution_count": 33,
   "metadata": {
    "collapsed": false,
    "scrolled": true
   },
   "outputs": [
    {
     "name": "stdout",
     "output_type": "stream",
     "text": [
      "Loaded parameters to layer 'conv2d1' (shape 32x3x5x5).\n",
      "Loaded parameters to layer 'conv2d1' (shape 32).\n",
      "Loaded parameters to layer 'conv2d2' (shape 32x32x5x5).\n",
      "Loaded parameters to layer 'conv2d2' (shape 32).\n",
      "Loaded parameters to layer 'dense' (shape 960x32).\n",
      "Loaded parameters to layer 'dense' (shape 32).\n",
      "Loaded parameters to layer 'output' (shape 32x3).\n",
      "Loaded parameters to layer 'output' (shape 3).\n"
     ]
    }
   ],
   "source": [
    "net1.load_params_from('virtual_car_trained.np')"
   ]
  },
  {
   "cell_type": "code",
   "execution_count": 35,
   "metadata": {
    "collapsed": false,
    "scrolled": true
   },
   "outputs": [
    {
     "name": "stdout",
     "output_type": "stream",
     "text": [
      "[2]\n",
      "[2]\n"
     ]
    },
    {
     "ename": "KeyboardInterrupt",
     "evalue": "",
     "output_type": "error",
     "traceback": [
      "\u001b[0;31m---------------------------------------------------------------------------\u001b[0m",
      "\u001b[0;31mKeyboardInterrupt\u001b[0m                         Traceback (most recent call last)",
      "\u001b[0;32m<ipython-input-35-4f95f30988b7>\u001b[0m in \u001b[0;36m<module>\u001b[0;34m()\u001b[0m\n\u001b[1;32m     25\u001b[0m     \u001b[0mdata\u001b[0m \u001b[0;34m=\u001b[0m \u001b[0mpickle\u001b[0m\u001b[0;34m.\u001b[0m\u001b[0mdumps\u001b[0m\u001b[0;34m(\u001b[0m\u001b[0mpreds\u001b[0m\u001b[0;34m)\u001b[0m\u001b[0;34m\u001b[0m\u001b[0m\n\u001b[1;32m     26\u001b[0m     \u001b[0msock\u001b[0m\u001b[0;34m.\u001b[0m\u001b[0msendto\u001b[0m\u001b[0;34m(\u001b[0m\u001b[0mdata\u001b[0m\u001b[0;34m,\u001b[0m \u001b[0;34m(\u001b[0m\u001b[0mHOST\u001b[0m\u001b[0;34m,\u001b[0m \u001b[0mPORT_SND\u001b[0m\u001b[0;34m)\u001b[0m\u001b[0;34m)\u001b[0m\u001b[0;34m\u001b[0m\u001b[0m\n\u001b[0;32m---> 27\u001b[0;31m     \u001b[0mtime\u001b[0m\u001b[0;34m.\u001b[0m\u001b[0msleep\u001b[0m\u001b[0;34m(\u001b[0m\u001b[0;36m0.3\u001b[0m\u001b[0;34m)\u001b[0m\u001b[0;34m\u001b[0m\u001b[0m\n\u001b[0m\u001b[1;32m     28\u001b[0m     \u001b[0;32mif\u001b[0m \u001b[0mnt\u001b[0m\u001b[0;34m==\u001b[0m\u001b[0;36m2\u001b[0m\u001b[0;34m:\u001b[0m\u001b[0;34m\u001b[0m\u001b[0m\n\u001b[1;32m     29\u001b[0m         \u001b[0mclear_output\u001b[0m\u001b[0;34m(\u001b[0m\u001b[0;34m)\u001b[0m\u001b[0;34m\u001b[0m\u001b[0m\n",
      "\u001b[0;31mKeyboardInterrupt\u001b[0m: "
     ]
    }
   ],
   "source": [
    "# replace localhost with network name of game machine defined in game blend\n",
    "HOST, PORT_SND = \"localhost\", 9999\n",
    "\n",
    "# SOCK_DGRAM is the socket type to use for UDP sockets\n",
    "sock = socket.socket(socket.AF_INET, socket.SOCK_DGRAM)\n",
    "nt = 0\n",
    "while True:\n",
    "    nt +=1\n",
    "    #Xim = plt.imread('/Users/louis/Documents/BGE_UDP/frame.jpg')\n",
    "    #plt.imshow(Xim)\n",
    "    #plt.show()\n",
    "    #Xim = Xim.reshape(-1,ch,Xim.shape[0],Xim.shape[1])\n",
    "    \n",
    "    Xim = Image.open('/Users/louis/Documents/Virtual_car/frame.jpg')\n",
    "    wpercent = (basewidth / float(Xim.size[0]))\n",
    "    hsize = int((float(Xim.size[1]) * float(wpercent)))\n",
    "    hsize = 22\n",
    "    Xim = Xim.resize((basewidth, hsize), PIL.Image.ANTIALIAS)\n",
    "    Xim = np.asarray(Xim.getdata())\n",
    "    Xim = Xim.reshape(-1,ch,hsize,basewidth)\n",
    "    Xim = Xim.astype(np.float32)\n",
    "    \n",
    "    preds = net1.predict(Xim[0:1])\n",
    "    print preds\n",
    "    data = pickle.dumps(preds)\n",
    "    sock.sendto(data, (HOST, PORT_SND))\n",
    "    time.sleep(0.1)\n",
    "    if nt==2:\n",
    "        clear_output()\n",
    "        nt = 0"
   ]
  },
  {
   "cell_type": "code",
   "execution_count": 103,
   "metadata": {
    "collapsed": false,
    "scrolled": false
   },
   "outputs": [
    {
     "name": "stdout",
     "output_type": "stream",
     "text": [
      "[2 2 2 2 2 2 2 2 2 2 2 2 2 2 2 2 2 2 2 2 2 2 2 2 2 0 0 0 0 0 0 0 0 0 0 0 0\n",
      " 0 0 0 0 0 0 0 0 0 0 0 0 0 0 0 0 0 0 0 0 0 0 0 0 0 0 0 0 0 0 0 0 0 0 0 0 0\n",
      " 0 0 0 0 0 0 0 0 0 0 0 0 0 0 0 0 0 0 0 0 0 0 0 0 0 0 0 0 0 0 0 0 0 0 0 0 0\n",
      " 0 0 0 0 0 0 0 0 2 0 0 0 0 2 2 2 2 2 2 2 2 2 2 2 2 2 2 2 2 2 2 2 2 2 2 2 2\n",
      " 2 2 2 2 2 2 2 2 2 2 2 2 2 2 2 2 2 2 2 2 2 2 2 2 2 2 2 2 2 2 2 2 2 2 2 2 2\n",
      " 2 2 2 2 2 2 2 2 2 2 2 2]\n"
     ]
    }
   ],
   "source": [
    "preds = net1.predict(X_train[3:200])\n",
    "print preds\n",
    "#plt.imshow(deprocess(X_train[120]))"
   ]
  },
  {
   "cell_type": "code",
   "execution_count": 30,
   "metadata": {
    "collapsed": false,
    "scrolled": true
   },
   "outputs": [
    {
     "data": {
      "text/plain": [
       "(1, 3, 22, 75)"
      ]
     },
     "execution_count": 30,
     "metadata": {},
     "output_type": "execute_result"
    }
   ],
   "source": [
    "Xim[0:1].shape"
   ]
  },
  {
   "cell_type": "code",
   "execution_count": 104,
   "metadata": {
    "collapsed": false,
    "scrolled": true
   },
   "outputs": [
    {
     "name": "stdout",
     "output_type": "stream",
     "text": [
      "[2]\n",
      "(1, 3, 22, 75)\n"
     ]
    }
   ],
   "source": [
    "Xim = plt.imread('/Users/louis/Documents/BGE_UDP/frame.jpg')\n",
    "#plt.imshow(Xim)\n",
    "#plt.show()\n",
    "Xim = Xim.reshape(-1,ch,Xim.shape[0],Xim.shape[1])\n",
    "preds = net1.predict(Xim[0:1])\n",
    "\n",
    "print preds\n",
    "print Xim[0:1].shape"
   ]
  },
  {
   "cell_type": "code",
   "execution_count": 105,
   "metadata": {
    "collapsed": false,
    "scrolled": false
   },
   "outputs": [],
   "source": [
    "Xim = plt.imread('/Users/louis/Documents/BGE_UDP/frame.jpg')\n",
    "#plt.imshow(Xim)\n",
    "#plt.show()"
   ]
  },
  {
   "cell_type": "code",
   "execution_count": 77,
   "metadata": {
    "collapsed": true,
    "scrolled": true
   },
   "outputs": [],
   "source": [
    "Xim = Xim.reshape(-1,ch,Xim.shape[0],Xim.shape[1])"
   ]
  },
  {
   "cell_type": "code",
   "execution_count": 24,
   "metadata": {
    "collapsed": false,
    "scrolled": true
   },
   "outputs": [
    {
     "data": {
      "text/plain": [
       "(1, 22, 75, 3)"
      ]
     },
     "execution_count": 24,
     "metadata": {},
     "output_type": "execute_result"
    }
   ],
   "source": [
    "Xim.shape"
   ]
  },
  {
   "cell_type": "code",
   "execution_count": null,
   "metadata": {
    "collapsed": true,
    "scrolled": true
   },
   "outputs": [],
   "source": []
  }
 ],
 "metadata": {
  "kernelspec": {
   "display_name": "Python 2",
   "language": "python",
   "name": "python2"
  },
  "language_info": {
   "codemirror_mode": {
    "name": "ipython",
    "version": 2
   },
   "file_extension": ".py",
   "mimetype": "text/x-python",
   "name": "python",
   "nbconvert_exporter": "python",
   "pygments_lexer": "ipython2",
   "version": "2.7.10"
  }
 },
 "nbformat": 4,
 "nbformat_minor": 0
}
