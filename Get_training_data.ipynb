{
 "cells": [
  {
   "cell_type": "code",
   "execution_count": 96,
   "metadata": {
    "collapsed": false,
    "scrolled": false
   },
   "outputs": [
    {
     "name": "stdout",
     "output_type": "stream",
     "text": [
      "(3172, 22, 75, 1)\n",
      "(3173, 22, 75, 1)\n",
      "(3174, 22, 75, 1)\n",
      "(3175, 22, 75, 1)\n"
     ]
    }
   ],
   "source": [
    "import socket\n",
    "import struct\n",
    "import math \n",
    "import sys, time\n",
    "import pickle\n",
    "import numpy as np\n",
    "from IPython.display import Image as IPImage\n",
    "import PIL\n",
    "from PIL import Image\n",
    "import matplotlib.pyplot as plt\n",
    "from IPython import display\n",
    "from IPython.display import clear_output\n",
    "%matplotlib inline\n",
    "\n",
    "# replace localhost with network name of game machine defined in game blend\n",
    "HOST, PORT_SND, PORT_RCV = \"localhost\", 9999, 10000\n",
    "\n",
    "# SOCK_DGRAM is the socket type to use for UDP sockets\n",
    "sock = socket.socket(socket.AF_INET, socket.SOCK_DGRAM)\n",
    "sock.bind((HOST, PORT_RCV))  \n",
    "inputs = np.array([[0,0,0,0]])\n",
    "ch = 1\n",
    "nf = 0\n",
    "X = Image.open('/Users/louis/Documents/Virtual_car/frame.jpg').convert(\"L\")\n",
    "basewidth = 75\n",
    "wpercent = (basewidth / float(X.size[0]))\n",
    "hsize = int((float(X.size[1]) * float(wpercent)))\n",
    "X = X.resize((basewidth, hsize), PIL.Image.ANTIALIAS)\n",
    "X = np.asarray(X.getdata())\n",
    "X = X.reshape(-1,hsize,basewidth,ch)\n",
    "KeyInput2 = [0,0,0,0]\n",
    "while KeyInput2[1]==0:\n",
    "\n",
    "    #data=struct.pack('<ff',theta,y)\n",
    "    data = pickle.dumps((0.0,0.0))\n",
    "    #data=struct.pack(\"f\",theta)\n",
    "    sock.sendto(data, (HOST, PORT_SND))\n",
    "    \n",
    "    KeyInput = sock.recvfrom(1024)\n",
    "    KeyInput2 = pickle.loads(KeyInput[0])\n",
    "    KeyInput2 = np.array(KeyInput2)\n",
    "    \n",
    "    if KeyInput2[0]==1:\n",
    "        nf += 1\n",
    "        Xim = Image.open('/Users/louis/Documents/Virtual_car/frame.jpg').convert(\"L\")\n",
    "        wpercent = (basewidth / float(Xim.size[0]))\n",
    "        hsize = int((float(Xim.size[1]) * float(wpercent)))\n",
    "        Xim = Xim.resize((basewidth, hsize), PIL.Image.ANTIALIAS)\n",
    "        Xim = np.asarray(Xim.getdata())\n",
    "        Xim = Xim.reshape(-1,hsize,basewidth,ch)\n",
    "        \n",
    "        X = np.concatenate((X, Xim), axis=0)\n",
    "        inputs = np.append(inputs,[KeyInput2],axis=0)\n",
    "        #plt.imshow(Xim[0])\n",
    "        #plt.show()\n",
    "        print X.shape\n",
    "        if nf ==10:\n",
    "            clear_output()\n",
    "            nf = 0\n",
    "        time.sleep(0.005)              # try for 30fps motion updates\n",
    "\n",
    "fIm = open('/Users/louis/Documents/Virtual_car_data/images3.p', 'w')\n",
    "pickle.dump(X,fIm)\n",
    "fIm.close() \n",
    "\n",
    "fIn = open('/Users/louis/Documents/Virtual_car_data/inputs3.p', 'w')\n",
    "pickle.dump(inputs,fIn)\n",
    "fIn.close() \n",
    "\n",
    "data = pickle.dumps((0,0))\n",
    "\n",
    "sock.sendto(data, (HOST, PORT_SND))\n",
    "\n",
    "sock.close()"
   ]
  },
  {
   "cell_type": "code",
   "execution_count": 94,
   "metadata": {
    "collapsed": false
   },
   "outputs": [
    {
     "data": {
      "text/plain": [
       "(1575,)"
      ]
     },
     "execution_count": 94,
     "metadata": {},
     "output_type": "execute_result"
    }
   ],
   "source": [
    "Xim.shape"
   ]
  },
  {
   "cell_type": "code",
   "execution_count": null,
   "metadata": {
    "collapsed": false,
    "scrolled": false
   },
   "outputs": [],
   "source": []
  },
  {
   "cell_type": "code",
   "execution_count": null,
   "metadata": {
    "collapsed": false,
    "scrolled": false
   },
   "outputs": [],
   "source": []
  },
  {
   "cell_type": "code",
   "execution_count": null,
   "metadata": {
    "collapsed": false,
    "scrolled": false
   },
   "outputs": [],
   "source": []
  },
  {
   "cell_type": "code",
   "execution_count": null,
   "metadata": {
    "collapsed": true
   },
   "outputs": [],
   "source": []
  }
 ],
 "metadata": {
  "kernelspec": {
   "display_name": "Python 2",
   "language": "python",
   "name": "python2"
  },
  "language_info": {
   "codemirror_mode": {
    "name": "ipython",
    "version": 2
   },
   "file_extension": ".py",
   "mimetype": "text/x-python",
   "name": "python",
   "nbconvert_exporter": "python",
   "pygments_lexer": "ipython2",
   "version": "2.7.10"
  }
 },
 "nbformat": 4,
 "nbformat_minor": 0
}
