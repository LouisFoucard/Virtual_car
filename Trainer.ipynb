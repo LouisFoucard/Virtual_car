{
 "cells": [
  {
   "cell_type": "code",
   "execution_count": 1,
   "metadata": {
    "collapsed": false,
    "scrolled": false
   },
   "outputs": [],
   "source": [
    "import matplotlib\n",
    "import matplotlib.pyplot as plt\n",
    "import matplotlib.cm as cm\n",
    "from PIL import Image\n",
    "from urllib import urlretrieve\n",
    "import cPickle as pickle\n",
    "import os\n",
    "import gzip\n",
    "import numpy as np\n",
    "import theano\n",
    "import lasagne\n",
    "from lasagne import layers\n",
    "from lasagne.updates import nesterov_momentum\n",
    "from nolearn.lasagne import NeuralNet\n",
    "from nolearn.lasagne import visualize\n",
    "from sklearn.metrics import classification_report\n",
    "from sklearn.metrics import confusion_matrix\n",
    "%matplotlib inline"
   ]
  },
  {
   "cell_type": "code",
   "execution_count": 12,
   "metadata": {
    "collapsed": true,
    "scrolled": false
   },
   "outputs": [],
   "source": [
    "def load_dataset():\n",
    "    \n",
    "        \n",
    "    fIm = open('/Users/louis/Documents/Virtual_car_data/images3.p', 'r')\n",
    "    fIn = open('/Users/louis/Documents/Virtual_car_data/inputs3.p', 'r')\n",
    "    X_train = pickle.load(fIm)/255.\n",
    "    y_train = pickle.load(fIn)\n",
    "    \n",
    "    H = X_train.shape[1]\n",
    "    W = X_train.shape[2]\n",
    "    ch = X_train.shape[3]\n",
    "    \n",
    "    X_train = X_train.reshape(-1,ch,H,W)\n",
    "    X_train = X_train.astype(np.float32)\n",
    "    y_train = y_train.astype(np.uint8)\n",
    "    \n",
    "    return X_train, y_train, H, W, ch\n",
    "\n",
    "def deprocess(x):\n",
    "    \n",
    "    x = x.reshape(H,W)\n",
    "    #x = x*255\n",
    "    #x = np.clip(x, 0, 255).astype('uint8')\n",
    "    return x"
   ]
  },
  {
   "cell_type": "code",
   "execution_count": 3,
   "metadata": {
    "collapsed": false,
    "scrolled": false
   },
   "outputs": [],
   "source": [
    "X_train, y_train, H, W, ch = load_dataset()"
   ]
  },
  {
   "cell_type": "code",
   "execution_count": 4,
   "metadata": {
    "collapsed": false,
    "scrolled": false
   },
   "outputs": [],
   "source": [
    "y_train2 = np.zeros(X_train.shape[0])\n",
    "n = -1\n",
    "for i in y_train:\n",
    "    n += 1\n",
    "    if i[2]==1:\n",
    "        y_train2[n] = 0\n",
    "    if i[3]==1:\n",
    "        y_train2[n] = 1\n",
    "    if i[2]==0 and i[3] == 0:\n",
    "        y_train2[n] = 2\n",
    "y_train2 = y_train2.astype('uint8')"
   ]
  },
  {
   "cell_type": "code",
   "execution_count": 5,
   "metadata": {
    "collapsed": false,
    "scrolled": false
   },
   "outputs": [
    {
     "name": "stdout",
     "output_type": "stream",
     "text": [
      "X type and shape: float32 (3175, 1, 22, 75)\n",
      "X.min(): 0.0\n",
      "X.max(): 1.0\n",
      "y type and shape: uint8 (3175,)\n",
      "y.min(): 0\n",
      "y.max(): 2\n"
     ]
    }
   ],
   "source": [
    "print 'X type and shape:', X_train.dtype, X_train.shape\n",
    "print 'X.min():', X_train.min()\n",
    "print 'X.max():', X_train.max()\n",
    "print 'y type and shape:', y_train2.dtype, y_train2.shape\n",
    "print 'y.min():', y_train2.min()\n",
    "print 'y.max():', y_train2.max()"
   ]
  },
  {
   "cell_type": "code",
   "execution_count": 13,
   "metadata": {
    "collapsed": false,
    "scrolled": false
   },
   "outputs": [
    {
     "data": {
      "text/plain": [
       "2"
      ]
     },
     "execution_count": 13,
     "metadata": {},
     "output_type": "execute_result"
    },
    {
     "data": {
      "image/png": "[encoded data removed]",
      "text/plain": [
       "<matplotlib.figure.Figure at 0x115fbb0d0>"
      ]
     },
     "metadata": {},
     "output_type": "display_data"
    }
   ],
   "source": [
    "plt.imshow(deprocess(X_train[300]))\n",
    "y_train2[300]"
   ]
  },
  {
   "cell_type": "code",
   "execution_count": 28,
   "metadata": {
    "collapsed": false,
    "scrolled": false
   },
   "outputs": [],
   "source": [
    "net1 = NeuralNet(\n",
    "    #layers=[('input', layers.InputLayer),\n",
    "    #        ('conv2d1', layers.Conv2DLayer),\n",
    "    #        ('dense', layers.DenseLayer),\n",
    "    #        ('output', layers.DenseLayer),\n",
    "    #        ],\n",
    "    layers=[('input', layers.InputLayer),\n",
    "            ('conv2d1', layers.Conv2DLayer),\n",
    "            #('maxpool1', layers.MaxPool2DLayer),\n",
    "            #('conv2d2', layers.Conv2DLayer),\n",
    "            #('maxpool2', layers.MaxPool2DLayer),\n",
    "            ('dropout1', layers.DropoutLayer),\n",
    "            ('dense', layers.DenseLayer),\n",
    "            ('dropout2', layers.DropoutLayer),\n",
    "            ('output', layers.DenseLayer),\n",
    "            ],\n",
    "    # input layer\n",
    "    input_shape=(None, ch, H, W),\n",
    "    # layer conv2d1\n",
    "    conv2d1_num_filters=64,\n",
    "    conv2d1_filter_size=(5, 5),\n",
    "    conv2d1_nonlinearity=lasagne.nonlinearities.rectify,\n",
    "    conv2d1_W=lasagne.init.GlorotUniform(),  \n",
    "    # layer maxpool1\n",
    "    #maxpool1_pool_size=(2, 2),    \n",
    "    ## layer conv2d2\n",
    "    #conv2d2_num_filters=32,\n",
    "    #conv2d2_filter_size=(5, 5),\n",
    "    #conv2d2_nonlinearity=lasagne.nonlinearities.rectify,\n",
    "    ## layer maxpool2\n",
    "    #maxpool2_pool_size=(2, 2),\n",
    "    # dropout1\n",
    "    dropout1_p=0.5,    \n",
    "    # dense\n",
    "    dense_num_units=32,\n",
    "    dense_nonlinearity=lasagne.nonlinearities.rectify,    \n",
    "    # dropout2\n",
    "    dropout2_p=0.5,    \n",
    "    # output\n",
    "    output_nonlinearity=lasagne.nonlinearities.softmax,\n",
    "    output_num_units=3,\n",
    "    # optimization method params\n",
    "    update=nesterov_momentum,\n",
    "    update_learning_rate=0.01,\n",
    "    update_momentum=0.9,\n",
    "    max_epochs=25,\n",
    "    verbose=1,\n",
    "    )"
   ]
  },
  {
   "cell_type": "code",
   "execution_count": 29,
   "metadata": {
    "collapsed": false,
    "scrolled": false
   },
   "outputs": [
    {
     "name": "stdout",
     "output_type": "stream",
     "text": [
      "# Neural Network with 2619139 learnable parameters\n",
      "\n",
      "## Layer information\n",
      "\n",
      "  #  name      size\n",
      "---  --------  --------\n",
      "  0  input     1x22x75\n",
      "  1  conv2d1   64x18x71\n",
      "  2  dropout1  64x18x71\n",
      "  3  dense     32\n",
      "  4  dropout2  32\n",
      "  5  output    3\n",
      "\n",
      "  epoch    train loss    valid loss    train/val    valid acc  dur\n",
      "-------  ------------  ------------  -----------  -----------  ------\n",
      "      1       \u001b[36m0.97887\u001b[0m       \u001b[32m0.71181\u001b[0m      1.37518      0.71174  14.59s\n",
      "      2       \u001b[36m0.75379\u001b[0m       \u001b[32m0.52549\u001b[0m      1.43444      0.76134  15.35s\n",
      "      3       \u001b[36m0.70048\u001b[0m       0.54998      1.27364      0.75025  14.77s\n",
      "      4       \u001b[36m0.68826\u001b[0m       0.53132      1.29538      0.76122  14.66s\n",
      "      5       \u001b[36m0.66695\u001b[0m       0.53751      1.24080      0.75181  14.29s\n",
      "      6       \u001b[36m0.64158\u001b[0m       0.54496      1.17728      0.76122  14.46s\n",
      "      7       \u001b[36m0.63076\u001b[0m       \u001b[32m0.51820\u001b[0m      1.21721      0.76286  14.54s\n",
      "      8       \u001b[36m0.61221\u001b[0m       \u001b[32m0.51753\u001b[0m      1.18293      0.76294  14.62s\n",
      "      9       0.62147       0.51968      1.19586      0.75654  15.72s\n",
      "     10       \u001b[36m0.60791\u001b[0m       \u001b[32m0.50763\u001b[0m      1.19754      0.76610  15.98s\n",
      "     11       \u001b[36m0.59980\u001b[0m       0.51006      1.17593      0.75650  16.00s\n",
      "     12       \u001b[36m0.59680\u001b[0m       \u001b[32m0.50718\u001b[0m      1.17672      0.75802  15.00s\n",
      "     13       \u001b[36m0.58028\u001b[0m       0.51021      1.13734      0.75174  14.47s\n",
      "     14       0.59435       0.52516      1.13175      0.74705  15.28s\n",
      "     15       0.59439       0.51046      1.16443      0.75494  14.10s\n",
      "     16       0.59794       0.53197      1.12402      0.73611  14.10s\n",
      "     17       0.59753       0.51195      1.16717      0.75174  15.35s\n",
      "     18       \u001b[36m0.56994\u001b[0m       0.50989      1.11776      0.75330  14.10s\n",
      "     19       0.58356       0.52455      1.11250      0.75177  14.09s\n",
      "     20       0.58752       0.50801      1.15651      0.75345  14.12s\n",
      "     21       0.57095       0.52173      1.09434      0.75817  14.32s\n",
      "     22       0.57937       0.52667      1.10007      0.74549  14.09s\n",
      "     23       0.58247       \u001b[32m0.50346\u001b[0m      1.15695      0.76602  14.14s\n",
      "     24       0.57382       0.52123      1.10089      0.74392  14.23s\n",
      "     25       0.57519       0.50600      1.13674      0.76126  14.14s\n"
     ]
    }
   ],
   "source": [
    "nn = net1.fit(X_train, y_train2)"
   ]
  },
  {
   "cell_type": "code",
   "execution_count": 30,
   "metadata": {
    "collapsed": false,
    "scrolled": false
   },
   "outputs": [
    {
     "data": {
      "image/png": "[encoded data removed]",
      "text/plain": [
       "<matplotlib.figure.Figure at 0x116da5190>"
      ]
     },
     "metadata": {},
     "output_type": "display_data"
    }
   ],
   "source": [
    "from nolearn.lasagne.visualize import plot_loss\n",
    "plot_loss(net1)"
   ]
  },
  {
   "cell_type": "code",
   "execution_count": 67,
   "metadata": {
    "collapsed": false,
    "scrolled": false
   },
   "outputs": [
    {
     "name": "stdout",
     "output_type": "stream",
     "text": [
      "Loaded parameters to layer 'conv2d1' (shape 32x3x5x5).\n",
      "Loaded parameters to layer 'conv2d1' (shape 32).\n",
      "Loaded parameters to layer 'conv2d2' (shape 32x32x5x5).\n",
      "Loaded parameters to layer 'conv2d2' (shape 32).\n",
      "Loaded parameters to layer 'dense' (shape 960x32).\n",
      "Loaded parameters to layer 'dense' (shape 32).\n",
      "Loaded parameters to layer 'output' (shape 32x3).\n",
      "Loaded parameters to layer 'output' (shape 3).\n"
     ]
    }
   ],
   "source": [
    "net1.load_params_from('virtual_car_trained.np')"
   ]
  },
  {
   "cell_type": "code",
   "execution_count": 66,
   "metadata": {
    "collapsed": false,
    "scrolled": false
   },
   "outputs": [],
   "source": [
    "net1.save_params_to('virtual_car_trained.np')"
   ]
  },
  {
   "cell_type": "code",
   "execution_count": 31,
   "metadata": {
    "collapsed": false,
    "scrolled": false
   },
   "outputs": [
    {
     "name": "stdout",
     "output_type": "stream",
     "text": [
      "[0]\n"
     ]
    },
    {
     "data": {
      "text/plain": [
       "<matplotlib.image.AxesImage at 0x1145a55d0>"
      ]
     },
     "execution_count": 31,
     "metadata": {},
     "output_type": "execute_result"
    },
    {
     "data": {
      "image/png": "[encoded data removed]",
      "text/plain": [
       "<matplotlib.figure.Figure at 0x11682ef10>"
      ]
     },
     "metadata": {},
     "output_type": "display_data"
    }
   ],
   "source": [
    "preds = net1.predict(X_train[210:211])\n",
    "print preds\n",
    "plt.imshow(deprocess(X_train[210]))"
   ]
  },
  {
   "cell_type": "code",
   "execution_count": 25,
   "metadata": {
    "collapsed": false,
    "scrolled": false
   },
   "outputs": [
    {
     "name": "stderr",
     "output_type": "stream",
     "text": [
      "/usr/local/lib/python2.7/site-packages/matplotlib/collections.py:590: FutureWarning: elementwise comparison failed; returning scalar instead, but in the future will perform elementwise comparison\n",
      "  if self._edgecolors == str('face'):\n"
     ]
    },
    {
     "data": {
      "image/png": "[encoded data removed]",
      "text/plain": [
       "<matplotlib.figure.Figure at 0x116746350>"
      ]
     },
     "metadata": {},
     "output_type": "display_data"
    }
   ],
   "source": [
    "preds = net1.predict(X_train)\n",
    "cm = confusion_matrix(y_train2, preds)\n",
    "plt.matshow(cm)\n",
    "plt.title('Confusion matrix')\n",
    "plt.colorbar()\n",
    "plt.ylabel('True label')\n",
    "plt.xlabel('Predicted label')\n",
    "plt.show()"
   ]
  },
  {
   "cell_type": "code",
   "execution_count": 23,
   "metadata": {
    "collapsed": false,
    "scrolled": false
   },
   "outputs": [
    {
     "data": {
      "text/plain": [
       "array([2, 2, 2, ..., 2, 2, 2], dtype=uint8)"
      ]
     },
     "execution_count": 23,
     "metadata": {},
     "output_type": "execute_result"
    }
   ],
   "source": [
    "y_train2"
   ]
  },
  {
   "cell_type": "code",
   "execution_count": 22,
   "metadata": {
    "collapsed": false,
    "scrolled": false
   },
   "outputs": [
    {
     "data": {
      "text/plain": [
       "array([0, 2, 2, 2, 2, 2, 2, 2, 2, 2, 0, 0, 2, 2, 2, 2, 1, 1, 1, 1, 2, 2, 2,\n",
       "       2, 2, 1, 1, 2, 2, 2, 2, 2, 2, 2, 2, 2, 2, 2, 2, 1, 1, 1, 1, 1, 1, 2,\n",
       "       2, 2, 2, 2, 2, 2, 1, 1, 1, 1, 1, 2, 2, 2, 2, 2, 2, 2, 1, 1, 1, 1, 2,\n",
       "       2, 2, 2, 2, 2, 2, 1, 1, 1, 1, 1, 1, 1, 1, 1, 1, 1, 1, 1, 1, 1, 1, 1,\n",
       "       1, 1, 1, 1, 1, 1, 1, 1, 1, 1, 1, 1, 1, 1, 1, 1, 1, 1, 1, 1, 1, 1, 1,\n",
       "       1, 2, 2, 2, 2, 2, 2, 2, 2, 1, 1, 1, 1, 2, 2, 2, 2, 2, 2, 2, 2, 2, 2,\n",
       "       2, 2, 2, 2, 2, 2, 2, 0, 0, 0, 0, 0, 0, 0, 0, 0, 0, 0, 0, 0, 0, 0, 0,\n",
       "       0, 0, 0, 0, 0, 0, 0, 0, 0, 0, 0, 0, 0, 0, 0, 0, 0, 0, 0, 0, 2, 2, 2,\n",
       "       2, 2, 2, 2, 2, 2, 0, 0, 0, 0, 0, 0, 0, 0, 0, 0, 0, 0, 0, 0, 2, 2, 2,\n",
       "       2, 2, 0, 0, 0, 0, 0, 0, 0, 0, 0, 0, 0, 0, 2, 2, 2, 2, 2, 2, 2, 2, 2,\n",
       "       2, 2, 0, 0, 0, 2, 2, 2, 2, 2, 0, 0, 2, 2, 2, 2, 2, 2, 2, 2, 2, 1, 1,\n",
       "       1, 2, 2, 2, 2, 2, 2, 2, 2, 2, 2, 2, 2, 1, 1, 1, 1, 1, 1, 2, 2, 2, 2,\n",
       "       1, 1, 1, 1, 2, 2, 2, 2, 2, 2, 2, 2, 2, 2, 2, 2, 1, 1, 1, 1, 1, 2, 2,\n",
       "       2, 2, 2, 2, 2, 2, 1, 1, 2, 2, 2, 2, 2, 2, 2, 2, 2, 2, 2, 2, 2, 2, 2,\n",
       "       2, 2, 2, 2, 2, 2, 2, 2, 2, 2, 2, 2, 2, 2, 2, 2, 2, 2, 2, 0, 0, 0, 2,\n",
       "       2, 2, 2, 2, 2, 2, 2, 2, 0, 0, 2, 2, 2, 2, 2, 2, 2, 2, 2, 0, 0, 0, 0,\n",
       "       2, 2, 2, 0, 0, 0, 0, 0, 0, 0, 0, 0, 2, 2, 2, 2, 2, 2, 2, 0, 0, 0, 0,\n",
       "       0, 0, 0, 0, 0, 0, 0], dtype=uint8)"
      ]
     },
     "execution_count": 22,
     "metadata": {},
     "output_type": "execute_result"
    }
   ],
   "source": [
    "y_train2[502:900]"
   ]
  },
  {
   "cell_type": "markdown",
   "metadata": {
    "collapsed": false
   },
   "source": []
  },
  {
   "cell_type": "code",
   "execution_count": null,
   "metadata": {
    "collapsed": false,
    "scrolled": false
   },
   "outputs": [],
   "source": []
  },
  {
   "cell_type": "code",
   "execution_count": null,
   "metadata": {
    "collapsed": false,
    "scrolled": false
   },
   "outputs": [],
   "source": []
  },
  {
   "cell_type": "code",
   "execution_count": null,
   "metadata": {
    "collapsed": false,
    "scrolled": false
   },
   "outputs": [],
   "source": []
  },
  {
   "cell_type": "code",
   "execution_count": null,
   "metadata": {
    "collapsed": false,
    "scrolled": false
   },
   "outputs": [],
   "source": []
  },
  {
   "cell_type": "code",
   "execution_count": null,
   "metadata": {
    "collapsed": true,
    "scrolled": false
   },
   "outputs": [],
   "source": []
  }
 ],
 "metadata": {
  "kernelspec": {
   "display_name": "Python 2",
   "language": "python",
   "name": "python2"
  },
  "language_info": {
   "codemirror_mode": {
    "name": "ipython",
    "version": 2
   },
   "file_extension": ".py",
   "mimetype": "text/x-python",
   "name": "python",
   "nbconvert_exporter": "python",
   "pygments_lexer": "ipython2",
   "version": "2.7.10"
  }
 },
 "nbformat": 4,
 "nbformat_minor": 0
}
